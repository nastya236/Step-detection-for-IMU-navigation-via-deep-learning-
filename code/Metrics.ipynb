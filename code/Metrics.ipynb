{
 "cells": [
  {
   "cell_type": "code",
   "execution_count": 1,
   "metadata": {},
   "outputs": [],
   "source": [
    "import pandas as pd"
   ]
  },
  {
   "cell_type": "code",
   "execution_count": 2,
   "metadata": {},
   "outputs": [],
   "source": [
    "metrics = pd.read_csv('experiments/ResNetLSTM/ResNetLSTM/metrics.csv')"
   ]
  },
  {
   "cell_type": "code",
   "execution_count": 12,
   "metadata": {},
   "outputs": [
    {
     "data": {
      "text/plain": [
       "rmse       8.711713\n",
       "rte_10     7.092999\n",
       "rte_30     7.417330\n",
       "rte_60     7.915545\n",
       "mie        6.908382\n",
       "gap       14.543363\n",
       "dtype: float64"
      ]
     },
     "execution_count": 12,
     "metadata": {},
     "output_type": "execute_result"
    }
   ],
   "source": [
    "metrics.mean()"
   ]
  },
  {
   "cell_type": "code",
   "execution_count": 6,
   "metadata": {},
   "outputs": [],
   "source": [
    "metrics1 = pd.read_csv('experiments/ResNetLSTMSteps_MSE_20_1/ResNetLSTMSteps/metrics.csv')"
   ]
  },
  {
   "cell_type": "code",
   "execution_count": 13,
   "metadata": {},
   "outputs": [
    {
     "data": {
      "text/plain": [
       "rmse       8.641740\n",
       "rte_10     6.980510\n",
       "rte_30     7.301299\n",
       "rte_60     7.756914\n",
       "mie        6.807524\n",
       "gap       14.309826\n",
       "r_pre      0.000000\n",
       "l_pre      0.000000\n",
       "r_rec      0.000000\n",
       "l_rec      0.000000\n",
       "r_f1       0.000000\n",
       "l_f1       0.000000\n",
       "dtype: float64"
      ]
     },
     "execution_count": 13,
     "metadata": {},
     "output_type": "execute_result"
    }
   ],
   "source": [
    "metrics1.mean()"
   ]
  },
  {
   "cell_type": "code",
   "execution_count": 7,
   "metadata": {},
   "outputs": [],
   "source": [
    "metrics2 = pd.read_csv('experiments/ResNetLSTMSteps_MSE_50_1/ResNetLSTMSteps/metrics.csv')"
   ]
  },
  {
   "cell_type": "code",
   "execution_count": 14,
   "metadata": {},
   "outputs": [
    {
     "data": {
      "text/plain": [
       "rmse       8.591298\n",
       "rte_10     6.977938\n",
       "rte_30     7.302463\n",
       "rte_60     7.796572\n",
       "mie        6.757607\n",
       "gap       14.591901\n",
       "r_pre      0.000000\n",
       "l_pre      0.000000\n",
       "r_rec      0.000000\n",
       "l_rec      0.000000\n",
       "r_f1       0.000000\n",
       "l_f1       0.000000\n",
       "dtype: float64"
      ]
     },
     "execution_count": 14,
     "metadata": {},
     "output_type": "execute_result"
    }
   ],
   "source": [
    "metrics2.mean()"
   ]
  },
  {
   "cell_type": "code",
   "execution_count": 9,
   "metadata": {},
   "outputs": [],
   "source": [
    "metrics3 = pd.read_csv('experiments/ResNetLSTMSteps_loss_20_1/ResNetLSTMSteps/metrics.csv')"
   ]
  },
  {
   "cell_type": "code",
   "execution_count": 15,
   "metadata": {},
   "outputs": [
    {
     "data": {
      "text/plain": [
       "rmse       8.670739\n",
       "rte_10     6.883561\n",
       "rte_30     7.238754\n",
       "rte_60     7.786854\n",
       "mie        6.622460\n",
       "gap       15.539773\n",
       "r_pre      0.000000\n",
       "l_pre      0.000000\n",
       "r_rec      0.000000\n",
       "l_rec      0.000000\n",
       "r_f1       0.000000\n",
       "l_f1       0.000000\n",
       "dtype: float64"
      ]
     },
     "execution_count": 15,
     "metadata": {},
     "output_type": "execute_result"
    }
   ],
   "source": [
    "metrics3.mean()"
   ]
  },
  {
   "cell_type": "code",
   "execution_count": 10,
   "metadata": {},
   "outputs": [],
   "source": [
    "metrics4 = pd.read_csv('experiments/ResNetLSTMSteps_loss_50_1/ResNetLSTMSteps/metrics.csv')"
   ]
  },
  {
   "cell_type": "code",
   "execution_count": 16,
   "metadata": {},
   "outputs": [
    {
     "data": {
      "text/plain": [
       "rmse       8.450199\n",
       "rte_10     6.805332\n",
       "rte_30     7.120713\n",
       "rte_60     7.612332\n",
       "mie        6.585776\n",
       "gap       14.528020\n",
       "r_pre      0.000000\n",
       "l_pre      0.000000\n",
       "r_rec      0.000000\n",
       "l_rec      0.000000\n",
       "r_f1       0.000000\n",
       "l_f1       0.000000\n",
       "dtype: float64"
      ]
     },
     "execution_count": 16,
     "metadata": {},
     "output_type": "execute_result"
    }
   ],
   "source": [
    "metrics4.mean()"
   ]
  },
  {
   "cell_type": "code",
   "execution_count": 11,
   "metadata": {},
   "outputs": [],
   "source": [
    "metrics5 = pd.read_csv('experiments/ResNetLSTMSteps_loss_20_0.1/ResNetLSTMSteps/metrics.csv')"
   ]
  },
  {
   "cell_type": "code",
   "execution_count": 17,
   "metadata": {},
   "outputs": [
    {
     "data": {
      "text/plain": [
       "rmse       8.804259\n",
       "rte_10     7.163436\n",
       "rte_30     7.485720\n",
       "rte_60     7.976267\n",
       "mie        6.993656\n",
       "gap       14.164950\n",
       "r_pre      0.000000\n",
       "l_pre      0.000000\n",
       "r_rec      0.000000\n",
       "l_rec      0.000000\n",
       "r_f1       0.000000\n",
       "l_f1       0.000000\n",
       "dtype: float64"
      ]
     },
     "execution_count": 17,
     "metadata": {},
     "output_type": "execute_result"
    }
   ],
   "source": [
    "metrics5.mean()"
   ]
  },
  {
   "cell_type": "code",
   "execution_count": 1,
   "metadata": {},
   "outputs": [
    {
     "ename": "ModuleNotFoundError",
     "evalue": "No module named 'acclib'",
     "output_type": "error",
     "traceback": [
      "\u001b[0;31m---------------------------------------------------------------------------\u001b[0m",
      "\u001b[0;31mModuleNotFoundError\u001b[0m                       Traceback (most recent call last)",
      "\u001b[0;32m<ipython-input-1-f418eb9c5866>\u001b[0m in \u001b[0;36m<module>\u001b[0;34m\u001b[0m\n\u001b[0;32m----> 1\u001b[0;31m \u001b[0;32mfrom\u001b[0m \u001b[0macclib\u001b[0m\u001b[0;34m.\u001b[0m\u001b[0mnets\u001b[0m\u001b[0;34m.\u001b[0m\u001b[0mmodels\u001b[0m \u001b[0;32mimport\u001b[0m \u001b[0mResNetLSTM\u001b[0m\u001b[0;34m,\u001b[0m \u001b[0mResNetLSTMSteps\u001b[0m\u001b[0;34m\u001b[0m\u001b[0m\n\u001b[0m\u001b[1;32m      2\u001b[0m \u001b[0;32mfrom\u001b[0m \u001b[0macclib\u001b[0m\u001b[0;34m.\u001b[0m\u001b[0mshow\u001b[0m \u001b[0;32mimport\u001b[0m \u001b[0;34m*\u001b[0m\u001b[0;34m\u001b[0m\u001b[0m\n\u001b[1;32m      3\u001b[0m \u001b[0;32mfrom\u001b[0m \u001b[0macclib\u001b[0m\u001b[0;34m.\u001b[0m\u001b[0mloader\u001b[0m \u001b[0;32mimport\u001b[0m \u001b[0;34m*\u001b[0m\u001b[0;34m\u001b[0m\u001b[0m\n\u001b[1;32m      4\u001b[0m \u001b[0;32mfrom\u001b[0m \u001b[0macclib\u001b[0m\u001b[0;34m.\u001b[0m\u001b[0mtrain_test_split\u001b[0m \u001b[0;32mimport\u001b[0m \u001b[0;34m*\u001b[0m\u001b[0;34m\u001b[0m\u001b[0m\n\u001b[1;32m      5\u001b[0m \u001b[0;32mfrom\u001b[0m \u001b[0macclib\u001b[0m\u001b[0;34m.\u001b[0m\u001b[0mnets\u001b[0m\u001b[0;34m.\u001b[0m\u001b[0mtraining\u001b[0m \u001b[0;32mimport\u001b[0m \u001b[0;34m*\u001b[0m\u001b[0;34m\u001b[0m\u001b[0m\n",
      "\u001b[0;31mModuleNotFoundError\u001b[0m: No module named 'acclib'"
     ]
    }
   ],
   "source": [
    "from acclib.nets.models import ResNetLSTM, ResNetLSTMSteps\n",
    "from acclib.show import *\n",
    "from acclib.loader import *\n",
    "from acclib.train_test_split import *\n",
    "from acclib.nets.training import *\n",
    "import torch\n",
    "from acclib.geometry import *\n",
    "from acclib.movement_detection.threshold_based import *\n",
    "from acclib.features import *\n",
    "from scipy.ndimage import gaussian_filter\n",
    "from torch import nn\n",
    "\n",
    "from acclib.helpers import get_windows\n",
    "from acclib.preprocess import get_trend\n",
    "import random\n",
    "from acclib.nets.estimator import *\n",
    "import pickle\n"
   ]
  },
  {
   "cell_type": "code",
   "execution_count": null,
   "metadata": {},
   "outputs": [],
   "source": []
  }
 ],
 "metadata": {
  "kernelspec": {
   "display_name": "Python 3",
   "language": "python",
   "name": "python3"
  },
  "language_info": {
   "codemirror_mode": {
    "name": "ipython",
    "version": 3
   },
   "file_extension": ".py",
   "mimetype": "text/x-python",
   "name": "python",
   "nbconvert_exporter": "python",
   "pygments_lexer": "ipython3",
   "version": "3.6.3"
  }
 },
 "nbformat": 4,
 "nbformat_minor": 4
}
